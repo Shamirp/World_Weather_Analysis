{
 "cells": [
  {
   "cell_type": "code",
   "execution_count": 1,
   "id": "506d0cf4",
   "metadata": {},
   "outputs": [],
   "source": [
    "# Import the random module.\n",
    "import random"
   ]
  },
  {
   "cell_type": "code",
   "execution_count": 3,
   "id": "14f28951",
   "metadata": {},
   "outputs": [
    {
     "data": {
      "text/plain": [
       "[-71.18139846139748,\n",
       " -67.48046231398781,\n",
       " 62.74830089269547,\n",
       " 45.766449213303375,\n",
       " 85.08375234410505,\n",
       " -38.24794070945933,\n",
       " -41.5869426685928,\n",
       " 37.66853916103763,\n",
       " 83.62351583637795,\n",
       " -39.35001206162297]"
      ]
     },
     "execution_count": 3,
     "metadata": {},
     "output_type": "execute_result"
    }
   ],
   "source": [
    "x = 1\n",
    "latitudes = []\n",
    "while x < 11:\n",
    "    random_lat = random.randint(-90, 89) + random.random()\n",
    "    latitudes.append(random_lat)\n",
    "    x += 1\n",
    "latitudes"
   ]
  },
  {
   "cell_type": "code",
   "execution_count": 4,
   "id": "2dd4329f",
   "metadata": {},
   "outputs": [],
   "source": [
    "# Import the NumPy module.\n",
    "import numpy as np"
   ]
  },
  {
   "cell_type": "code",
   "execution_count": 5,
   "id": "5ac39955",
   "metadata": {},
   "outputs": [
    {
     "data": {
      "text/plain": [
       "array([ -2.4378996 ,  59.05488234,  68.78955402, -67.53805493,\n",
       "       -32.16747272,  14.25019549,  24.95953204, -82.61521618,\n",
       "         4.53173003,  88.1647478 , -46.13153739,  24.18078347,\n",
       "        63.77045563,  63.28521686,  34.83829237, -27.81005331,\n",
       "       -53.33727396, -79.123529  ,  83.47636272,  13.46484507,\n",
       "        85.52280444, -37.63618244,  17.96588109, -63.64165234,\n",
       "       -74.40527126, -33.06882915,  83.07434146,  81.66145017,\n",
       "        -7.49341776,  34.71488899,   0.9147944 ,  80.08419329,\n",
       "       -64.49566334,  58.57966759, -43.60603781,  41.4530893 ,\n",
       "        35.38566082, -50.35783195,   9.85833099,  76.18471568,\n",
       "       -21.66698023,  44.75571059, -71.73242681,  76.22012688,\n",
       "       -79.60017548, -74.69775579, -19.21858465,   0.12018236,\n",
       "       -60.19704249,  61.61687729])"
      ]
     },
     "execution_count": 5,
     "metadata": {},
     "output_type": "execute_result"
    }
   ],
   "source": [
    "np.random.uniform(-90.000, 90.000, size=50)"
   ]
  },
  {
   "cell_type": "code",
   "execution_count": 6,
   "id": "99a3d24f",
   "metadata": {},
   "outputs": [],
   "source": [
    "# Import timeit.\n",
    "import timeit"
   ]
  },
  {
   "cell_type": "code",
   "execution_count": 8,
   "id": "ddb64b8c",
   "metadata": {},
   "outputs": [
    {
     "name": "stdout",
     "output_type": "stream",
     "text": [
      "14.1 µs ± 281 ns per loop (mean ± std. dev. of 7 runs, 100000 loops each)\n"
     ]
    }
   ],
   "source": [
    "%timeit np.random.uniform(-90.000, 90.000, size=1500)"
   ]
  },
  {
   "cell_type": "code",
   "execution_count": 9,
   "id": "dcc328ba",
   "metadata": {},
   "outputs": [
    {
     "name": "stdout",
     "output_type": "stream",
     "text": [
      "1.65 ms ± 30.5 µs per loop (mean ± std. dev. of 7 runs, 1000 loops each)\n"
     ]
    }
   ],
   "source": [
    "def latitudes(size):\n",
    "    latitudes = []\n",
    "    x = 0\n",
    "    while x < (size):\n",
    "        random_lat = random.randint(-90, 90) + random.random()\n",
    "        latitudes.append(random_lat)\n",
    "        x += 1\n",
    "    return latitudes\n",
    "# Call the function with 1500.\n",
    "%timeit latitudes(1500)"
   ]
  },
  {
   "cell_type": "code",
   "execution_count": null,
   "id": "2d4c2ade",
   "metadata": {},
   "outputs": [],
   "source": []
  }
 ],
 "metadata": {
  "kernelspec": {
   "display_name": "PythonData",
   "language": "python",
   "name": "pythondata"
  },
  "language_info": {
   "codemirror_mode": {
    "name": "ipython",
    "version": 3
   },
   "file_extension": ".py",
   "mimetype": "text/x-python",
   "name": "python",
   "nbconvert_exporter": "python",
   "pygments_lexer": "ipython3",
   "version": "3.7.10"
  }
 },
 "nbformat": 4,
 "nbformat_minor": 5
}
